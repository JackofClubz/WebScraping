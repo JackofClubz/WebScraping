{
 "cells": [
  {
   "cell_type": "code",
   "execution_count": null,
   "metadata": {},
   "outputs": [],
   "source": [
    "import csv\n",
    "import time\n",
    "from selenium.webdriver.common.by import By\n",
    "from selenium import webdriver\n",
    "from webdriver_manager.chrome import ChromeDriverManager\n",
    "import os \n",
    "\n",
    "# import the webdriver, chrome driver is recommended\n",
    "driver = webdriver.Chrome(ChromeDriverManager().install())\n",
    "# driver.set_page_load_timeout(2)\n",
    "filename = \"\"\n",
    "maxcount = 100\n",
    "i=0\n",
    "cwd = os.getcwd()\n",
    "   \n",
    "# function to check if the button is on the page, to avoid miss-click problem -- not used\n",
    "def check_exists_by_xpath(xpath):\n",
    "    try:\n",
    "        driver.find_element_by_xpath(xpath)\n",
    "    except NoSuchElementException:\n",
    "        return False\n",
    "    return True\n",
    "    time.sleep(2)\n",
    "\n",
    "#Gitignore (failed try)\n",
    "def more():\n",
    "    snippet = driver.find_element_by_class_name('postSnippet')\n",
    "    if len(snippet)>0:\n",
    "        return True\n",
    "    else:\n",
    "        return False \n",
    "    \n"
   ]
  },
  {
   "cell_type": "code",
   "execution_count": null,
   "metadata": {},
   "outputs": [],
   "source": [
    "url = 'https://www.hugoboss.com/de/en/men-jackets-coats/'\n",
    "driver.get(url)\n",
    "#to maximize the the tab \n",
    "driver.maximize_window()"
   ]
  },
  {
   "cell_type": "code",
   "execution_count": null,
   "metadata": {},
   "outputs": [],
   "source": [
    "# open the file to save the price and product information\n",
    "path_to_file = cwd+\"\\HugoBoss_AE_second.csv\"\n",
    "csvFile = open(path_to_file, 'a',newline='', encoding=\"utf-8-sig\")\n",
    "csvWriter = csv.writer(csvFile)\n",
    "#MPG_list = ['polo-shirts','shirts','jeans','knitwear','trousers','jackets-coats','suits','shoes','socks','beachwear','underwear'] 'polo-shirts','shirts','t-shirts','jeans','trousers','jackets-coats'\n",
    "\n",
    "MPG_list = ['jackets-coats']\n",
    "\n",
    "for i in MPG_list:\n",
    "     url = 'https://www.hugoboss.com/ae/en/men-'+i+'/'\n",
    "     driver.get(url)\n",
    "     #to maximize the the tab \n",
    "     #driver.maximize_window()\n",
    "\n",
    "     for j in range(40):\n",
    "          try:\n",
    "               driver.find_element(By.XPATH,'/html/body/div[4]/div[9]/div[1]/div[4]/div[3]/div/div[2]/div[1]/div['+str(j)+']/article/div[1]/div[1]/div/div/a/figure/hug-adaptive-picture[1]/picture/img').click()\n",
    "          except:                            \n",
    "               pass                               \n",
    "          try:\n",
    "               driver.find_element(By.XPATH,'/html/body/div[5]/div[9]/div[1]/div[4]/div[3]/div/div[2]/div[1]/div['+str(j)+']/article/div[1]/div[1]/div/div/a/figure/hug-adaptive-picture[1]/picture/img').click()\n",
    "          except:                                       \n",
    "               pass\n",
    "          try:\n",
    "               driver.find_element(By.XPATH,'/html/body/div[5]/div[9]/div[1]/div[4]/div[3]/div/div[2]/div[1]/div['+str(j)+']/article/div[1]/div[1]/div/div/a/figure/hug-adaptive-picture[1]/picture/img  ').click()\n",
    "          except:                            \n",
    "               pass\n",
    "\n",
    "          time.sleep(2)\n",
    "\n",
    "          try:\n",
    "          \n",
    "               name = driver.find_element(By.XPATH, '/html/body/div[5]/div[10]/div/div[1]/div/div/article/section/div/header/h1').text\n",
    "               print(name)                             \n",
    "\n",
    "               price = driver.find_element(By.XPATH, '/html/body/div[5]/div[10]/div/div[1]/div/div/article/section/div/header/div[4]/div/div/div').text\n",
    "               pr = \"\".join(filter(str.isdigit, price)) \n",
    "               pr = int(pr)/100\n",
    "                            \n",
    "               driver.find_element(By.XPATH,'/html/body/div[5]/div[10]/div/div[1]/div/div/article/section/div/div/div[3]/div/div[1]/h3/button').click()\n",
    "                                             \n",
    "               number = driver.find_element(By.XPATH,'/html/body/div[5]/div[10]/div/div[1]/div/div/article/section/div/div/div[3]/div/div[1]/div/div[1]').text\n",
    "          \n",
    "               csvWriter.writerow([i, name, pr, number, price])\n",
    "               driver.back()\n",
    "               time.sleep(2)\n",
    "          except:\n",
    "               pass\n"
   ]
  },
  {
   "cell_type": "code",
   "execution_count": null,
   "metadata": {},
   "outputs": [],
   "source": [
    "csvFile.close()"
   ]
  }
 ],
 "metadata": {
  "kernelspec": {
   "display_name": "Python 3.7.11",
   "language": "python",
   "name": "python3"
  },
  "language_info": {
   "codemirror_mode": {
    "name": "ipython",
    "version": 3
   },
   "file_extension": ".py",
   "mimetype": "text/x-python",
   "name": "python",
   "nbconvert_exporter": "python",
   "pygments_lexer": "ipython3",
   "version": "3.7.11"
  },
  "orig_nbformat": 4,
  "vscode": {
   "interpreter": {
    "hash": "2bfcb1d4df6eb12671b9d509f778d60a363494077f5d1c0f7f352516fa33f538"
   }
  }
 },
 "nbformat": 4,
 "nbformat_minor": 2
}
