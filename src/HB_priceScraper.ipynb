{
 "cells": [
  {
   "cell_type": "code",
   "execution_count": 1,
   "metadata": {},
   "outputs": [
    {
     "name": "stderr",
     "output_type": "stream",
     "text": [
      "\n",
      "\n",
      "====== WebDriver manager ======\n",
      "Current google-chrome version is 102.0.5005\n",
      "Get LATEST chromedriver version for 102.0.5005 google-chrome\n",
      "Trying to download new driver from https://chromedriver.storage.googleapis.com/102.0.5005.61/chromedriver_win32.zip\n",
      "Driver has been saved in cache [C:\\Users\\LanceTersou\\.wdm\\drivers\\chromedriver\\win32\\102.0.5005.61]\n",
      "c:\\Users\\LanceTersou\\miniconda3\\envs\\myenv\\lib\\site-packages\\ipykernel_launcher.py:10: DeprecationWarning: executable_path has been deprecated, please pass in a Service object\n",
      "  # Remove the CWD from sys.path while we load stuff.\n"
     ]
    },
    {
     "name": "stdout",
     "output_type": "stream",
     "text": [
      "123\n"
     ]
    }
   ],
   "source": [
    "import csv\n",
    "import time\n",
    "from selenium.webdriver.common.by import By\n",
    "from selenium import webdriver\n",
    "from webdriver_manager.chrome import ChromeDriverManager\n",
    "import os \n",
    "\n",
    "# import the webdriver, chrome driver is recommended\n",
    "driver = webdriver.Chrome(ChromeDriverManager().install())\n",
    "# driver.set_page_load_timeout(2)\n",
    "filename = \"\"\n",
    "maxcount = 100\n",
    "i=0\n",
    "cwd = os.getcwd()\n",
    "   \n",
    "# function to check if the button is on the page, to avoid miss-click problem\n",
    "def check_exists_by_xpath(xpath):\n",
    "    try:\n",
    "        driver.find_element_by_xpath(xpath)\n",
    "    except NoSuchElementException:\n",
    "        return False\n",
    "    return True\n",
    "    time.sleep(2)\n",
    "\n",
    "#I tried\n",
    "def more():\n",
    "    snippet = driver.find_element_by_class_name('postSnippet')\n",
    "    if len(snippet)>0:\n",
    "        return True\n",
    "    else:\n",
    "        return False \n",
    "    \n",
    "\n",
    "# Python3 program to convert a list\n",
    "# of integers into a single integer\n",
    "def convert(list):\n",
    "      \n",
    "    # Converting integer list to string list\n",
    "    # and joining the list using join()\n",
    "    res = int(\"\".join(map(str, list)))\n",
    "      \n",
    "    return res\n",
    "  \n",
    "\n",
    "# Driver code\n",
    "list = [1, 2, 3]\n",
    "print(convert(list))"
   ]
  },
  {
   "cell_type": "code",
   "execution_count": 2,
   "metadata": {},
   "outputs": [],
   "source": [
    "url = 'https://www.hugoboss.com/de/en/men-jackets-coats/'\n",
    "driver.get(url)\n",
    "#to maximize the the tab \n",
    "driver.maximize_window()"
   ]
  },
  {
   "cell_type": "code",
   "execution_count": 3,
   "metadata": {},
   "outputs": [
   
