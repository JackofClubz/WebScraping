{
 "cells": [
  {
   "cell_type": "code",
   "execution_count": 23,
   "metadata": {},
   "outputs": [
    {
     "name": "stderr",
     "output_type": "stream",
     "text": [
      "\n",
      "\n",
      "====== WebDriver manager ======\n",
      "Current google-chrome version is 99.0.4844\n",
      "Get LATEST chromedriver version for 99.0.4844 google-chrome\n",
      "Trying to download new driver from https://chromedriver.storage.googleapis.com/99.0.4844.51/chromedriver_win32.zip\n",
      "Driver has been saved in cache [C:\\Users\\LanceTersou\\.wdm\\drivers\\chromedriver\\win32\\99.0.4844.51]\n",
      "C:\\Users\\LanceTersou\\miniconda3\\envs\\myenv\\lib\\site-packages\\ipykernel_launcher.py:10: DeprecationWarning: executable_path has been deprecated, please pass in a Service object\n",
      "  # Remove the CWD from sys.path while we load stuff.\n"
     ]
    }
   ],
   "source": [
    "import csv\n",
    "import requests\n",
    "import csv\n",
    "import re\n",
    "import time\n",
    "from selenium import webdriver\n",
    "from webdriver_manager.chrome import ChromeDriverManager\n",
    "\n",
    "# import the webdriver, chrome driver is recommended\n",
    "driver = webdriver.Chrome(ChromeDriverManager().install())\n",
    "# driver.set_page_load_timeout(2)\n",
    "filename = \"\"\n",
    "maxcount = 100\n",
    "i=0\n",
    "\n",
    "   \n",
    "# function to check if the button is on the page, to avoid miss-click problem\n",
    "def check_exists_by_xpath(xpath):\n",
    "    try:\n",
    "        driver.find_element_by_xpath(xpath)\n",
    "    except NoSuchElementException:\n",
    "        return False\n",
    "    return True\n",
    "    time.sleep(2)\n",
    "\n",
    "\n"
   ]
  },
  {
   "cell_type": "code",
   "execution_count": 24,
   "metadata": {},
   "outputs": [],
   "source": [
    "pages_to_scrape = 3\n",
    "url = 'https://www.tripadvisor.co.uk/Restaurant_Review-g186338-d10397390-Reviews-M_S_Cafe-London_England.html'"
   ]
  },
  {
   "cell_type": "code",
   "execution_count": 25,
   "metadata": {},
   "outputs": [],
   "source": [
    "driver.get(url)\n",
    "#to maximize the the tab \n",
    "driver.maximize_window()"
   ]
  },
  {
   "cell_type": "code",
   "execution_count": 26,
   "metadata": {},
   "outputs": [
    {
     "ename": "SyntaxError",
     "evalue": "invalid syntax (Temp/ipykernel_3372/462191309.py, line 30)",
     "output_type": "error",
     "traceback": [
      "\u001b[1;36m  File \u001b[1;32m\"C:\\Users\\LANCET~1\\AppData\\Local\\Temp/ipykernel_3372/462191309.py\"\u001b[1;36m, line \u001b[1;32m30\u001b[0m\n\u001b[1;33m    csvWriter.writerow([date, rating, title, review])\u001b[0m\n\u001b[1;37m            ^\u001b[0m\n\u001b[1;31mSyntaxError\u001b[0m\u001b[1;31m:\u001b[0m invalid syntax\n"
     ]
    }
   ],
   "source": [
    "# open the file to save the review\n",
    "path_to_file = \"/Users/LanceTersou/WebScraper/W1C1AP.csv\"\n",
    "csvFile = open(path_to_file, 'a', encoding=\"utf-8\")\n",
    "csvWriter = csv.writer(csvFile)\n",
    "\n",
    "# change the value inside the range to save the number of reviews we're going to grab\n",
    "for i in range(0, pages_to_scrape):\n",
    "\n",
    "    # give the DOM time to load\n",
    "    time.sleep(2) \n",
    "\n",
    "    # Click the \"expand review\" link to reveal the entire review.\n",
    "   # driver.find_element_by_xpath(\".//div[contains(@data-test-target, 'expand-review')]\").click()\n",
    "\n",
    "    # Now we'll ask Selenium to look for elements in the page and save them to a variable. First lets define a  container that will hold all the reviews on the page. In a moment we'll parse these and save them:\n",
    "    container = driver.find_elements_by_xpath(\"//div[@data-reviewid]\")\n",
    "\n",
    "    # Next we'll grab the date of the review:\n",
    "    dates = driver.find_elements_by_xpath(\".//span[contains(@class, 'ratingDate')]\")\n",
    "    \n",
    "   # Now we'll look at the reviews in the container and parse them out\n",
    "\n",
    "    for j in range(len(container)): # A loop defined by the number of reviews\n",
    "\n",
    "        # Grab the rating\n",
    "        rating = container[j].find_element_by_xpath(\".//span[contains(@class, 'ui_bubble_rating bubble_')]\").get_attribute(\"class\").split(\"_\")[3]\n",
    "        # Grab the title\n",
    "        title = container[j].find_element_by_xpath(\".//span[contains(@class, 'noQuotes')]\").text\n",
    "        #Grab the review\n",
    "        review = container[j].find_element_by_xpath(\".//div[contains(@class, 'entry')]\").text.replace(\"\\n\", \"  \")\n",
    "        #Grab the data\n",
    "        date = \" \".join(dates[j].text#.split(\" \")[-2:])\n",
    "        \n",
    "        #Save that data in the csv and then continue to process the next review\n",
    "        csvWriter.writerow([date, rating, title, review]) \n",
    "        \n",
    "    # When all the reviews in the container have been processed, change the page and repeat            \n",
    "    driver.find_element_by_xpath('.//a[@class=\"ui_button nav next primary \"]').click()\n",
    "\n",
    "# When all pages have been processed, quit the driver\n",
    "driver.quit()"
   ]
  },
  {
   "cell_type": "code",
   "execution_count": null,
   "metadata": {},
   "outputs": [],
   "source": []
  }
 ],
 "metadata": {
  "interpreter": {
   "hash": "a8d63e551d5428f85959fbd3bbfa50195786a86c03b33ddedd7e602905da9cd5"
  },
  "kernelspec": {
   "display_name": "Python 3.7.11",
   "language": "python",
   "name": "python3"
  },
  "language_info": {
   "codemirror_mode": {
    "name": "ipython",
    "version": 3
   },
   "file_extension": ".py",
   "mimetype": "text/x-python",
   "name": "python",
   "nbconvert_exporter": "python",
   "pygments_lexer": "ipython3",
   "version": "3.7.11"
  },
  "orig_nbformat": 4
 },
 "nbformat": 4,
 "nbformat_minor": 2
}
