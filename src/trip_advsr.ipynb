{
 "cells": [
  {
   "cell_type": "code",
   "execution_count": 2,
   "metadata": {},
   "outputs": [
    {
     "name": "stderr",
     "output_type": "stream",
     "text": [
      "\n",
      "\n",
      "====== WebDriver manager ======\n",
      "Current google-chrome version is 99.0.4844\n",
      "Get LATEST chromedriver version for 99.0.4844 google-chrome\n",
      "Trying to download new driver from https://chromedriver.storage.googleapis.com/99.0.4844.51/chromedriver_win32.zip\n",
      "Driver has been saved in cache [C:\\Users\\LanceTersou\\.wdm\\drivers\\chromedriver\\win32\\99.0.4844.51]\n",
      "C:\\Users\\LanceTersou\\miniconda3\\envs\\myenv\\lib\\site-packages\\ipykernel_launcher.py:9: DeprecationWarning: executable_path has been deprecated, please pass in a Service object\n",
      "  if __name__ == '__main__':\n"
     ]
    }
   ],
   "source": [
    "import csv\n",
    "import requests\n",
    "import time\n",
    "from selenium import webdriver\n",
    "from webdriver_manager.chrome import ChromeDriverManager\n",
    "import os \n",
    "\n",
    "# import the webdriver, chrome driver is recommended\n",
    "driver = webdriver.Chrome(ChromeDriverManager().install())\n",
    "cwd = os.getcwd()\n",
    "   \n",
    "# function to check if the button is on the page, to avoid miss-click problem\n",
    "def check_exists_by_xpath(xpath):\n",
    "    try:\n",
    "        driver.find_element_by_xpath(xpath)\n",
    "    except NoSuchElementException:\n",
    "        return False\n",
    "    return True\n",
    "    time.sleep(2)\n",
    "\n",
    "#Function to check if there are any reviews that need to click on the 'more info.. / keep reading' web elements\n",
    "def more():\n",
    "    snippet = driver.find_element_by_class_name('postSnippet')\n",
    "    if len(snippet)>0:\n",
    "        return True\n",
    "    else:\n",
    "        return False \n",
    "    \n",
    "\n",
    "pages_to_scrape = 3 # <-- This depends on the overall pages that the website has, there are ways to automate this input but I just look at the driver browser pop up and write down how many pages I need to scrape :S \n",
    "url = 'https://www.tripadvisor.co.uk/Restaurant_Review-g186338-d10397390-Reviews-M_S_Cafe-London_England.html'\n",
    "driver.get(url)\n",
    "#to maximize the the tab \n",
    "driver.maximize_window()"
   ]
  },
  {
   "cell_type": "code",
   "execution_count": 3,
   "metadata": {},
   "outputs": [],
   "source": [
    "# open the file to save the review\n",
    "path_to_file = cwd+\"\\FILENAME.csv\"\n",
    "csvFile = open(path_to_file, 'a', encoding=\"utf-8-sig\")\n",
    "csvWriter = csv.writer(csvFile)"
   ]
  },
  {
   "cell_type": "code",
   "execution_count": null,
   "metadata": {},
   "outputs": [],
   "source": [
    "# change the value inside the range to save the number of reviews we're going to grab\n",
    "for i in range(0, pages_to_scrape):\n",
    "\n",
    "    # give the DOM time to load\n",
    "    time.sleep(2) \n",
    "\n",
    "    # Click the \"expand review\" link to reveal the entire review.\n",
    "    driver.find_element_by_xpath(\".//div[contains(@class, 'widgetEvCall')]\").click()\n",
    "\n",
    "    # Now we'll ask Selenium to look for elements in the page and save them to a variable. First lets define a  container that will hold all the reviews on the page. In a moment we'll parse these and save them:\n",
    "    container = driver.find_elements_by_xpath(\"//div[@data-reviewid]\")\n",
    "\n",
    "    # Next we'll grab the date of the review:\n",
    "    dates = driver.find_elements_by_xpath(\".//span[contains(@class, 'ratingDate')]\")\n",
    "    \n",
    "   # Now we'll look at the reviews in the container and parse them out\n",
    "\n",
    "    for j in range(len(container)): # A loop defined by the number of reviews\n",
    "\n",
    "        # Grab the rating\n",
    "        rating = container[j].find_element_by_xpath(\".//span[contains(@class, 'ui_bubble_rating bubble_')]\").get_attribute(\"class\").split(\"_\")[3]\n",
    "        # Grab the title\n",
    "        title = container[j].find_element_by_xpath(\".//span[contains(@class, 'noQuotes')]\").text\n",
    "        #Grab the review\n",
    "        review = container[j].find_element_by_xpath(\".//div[contains(@class, 'entry')]\").text.replace(\"\\n\", \"  \") \n",
    "        #Grab the data\n",
    "        date = \" \".join(dates[j].text.split(\" \")[-2:])\n",
    "        \n",
    "        #Save that data in the csv and then continue to process the next review\n",
    "        csvWriter.writerow([ date, rating, title, review])# postSnippet]) \n",
    "        \n",
    "    # When all the reviews in the container have been processed, change the page and repeat            \n",
    "    driver.find_element_by_xpath('.//a[@class=\"ui_button nav next primary \"]').click()\n",
    "\n",
    "# When all pages have been processed, quit the driver\n",
    "driver.quit()"
   ]
  }
 ],
 "metadata": {
  "interpreter": {
   "hash": "4fe3591d5316a4253e3e39ca718ebd662c01bb63a0f8a81752d73f90a49da992"
  },
  "kernelspec": {
   "display_name": "Python 3.9.10 64-bit (windows store)",
   "language": "python",
   "name": "python3"
  },
  "language_info": {
   "codemirror_mode": {
    "name": "ipython",
    "version": 3
   },
   "file_extension": ".py",
   "mimetype": "text/x-python",
   "name": "python",
   "nbconvert_exporter": "python",
   "pygments_lexer": "ipython3",
   "version": "3.7.11"
  },
  "orig_nbformat": 4
 },
 "nbformat": 4,
 "nbformat_minor": 2
}
